{
 "cells": [
  {
   "cell_type": "code",
   "execution_count": 1,
   "id": "9b5af753",
   "metadata": {},
   "outputs": [],
   "source": [
    "import pandas as pd\n",
    "import numpy as np\n",
    "import matplotlib.pyplot as plt\n",
    "import seaborn as sns\n",
    "%matplotlib inline"
   ]
  },
  {
   "cell_type": "code",
   "execution_count": 2,
   "id": "0d0bca38",
   "metadata": {},
   "outputs": [
    {
     "data": {
      "text/html": [
       "<div>\n",
       "<style scoped>\n",
       "    .dataframe tbody tr th:only-of-type {\n",
       "        vertical-align: middle;\n",
       "    }\n",
       "\n",
       "    .dataframe tbody tr th {\n",
       "        vertical-align: top;\n",
       "    }\n",
       "\n",
       "    .dataframe thead th {\n",
       "        text-align: right;\n",
       "    }\n",
       "</style>\n",
       "<table border=\"1\" class=\"dataframe\">\n",
       "  <thead>\n",
       "    <tr style=\"text-align: right;\">\n",
       "      <th></th>\n",
       "      <th>tweet_text</th>\n",
       "      <th>emotion_in_tweet_is_directed_at</th>\n",
       "      <th>is_there_an_emotion_directed_at_a_brand_or_product</th>\n",
       "    </tr>\n",
       "  </thead>\n",
       "  <tbody>\n",
       "    <tr>\n",
       "      <th>0</th>\n",
       "      <td>.@wesley83 I have a 3G iPhone. After 3 hrs twe...</td>\n",
       "      <td>iPhone</td>\n",
       "      <td>Negative emotion</td>\n",
       "    </tr>\n",
       "    <tr>\n",
       "      <th>1</th>\n",
       "      <td>@jessedee Know about @fludapp ? Awesome iPad/i...</td>\n",
       "      <td>iPad or iPhone App</td>\n",
       "      <td>Positive emotion</td>\n",
       "    </tr>\n",
       "    <tr>\n",
       "      <th>2</th>\n",
       "      <td>@swonderlin Can not wait for #iPad 2 also. The...</td>\n",
       "      <td>iPad</td>\n",
       "      <td>Positive emotion</td>\n",
       "    </tr>\n",
       "    <tr>\n",
       "      <th>3</th>\n",
       "      <td>@sxsw I hope this year's festival isn't as cra...</td>\n",
       "      <td>iPad or iPhone App</td>\n",
       "      <td>Negative emotion</td>\n",
       "    </tr>\n",
       "    <tr>\n",
       "      <th>4</th>\n",
       "      <td>@sxtxstate great stuff on Fri #SXSW: Marissa M...</td>\n",
       "      <td>Google</td>\n",
       "      <td>Positive emotion</td>\n",
       "    </tr>\n",
       "  </tbody>\n",
       "</table>\n",
       "</div>"
      ],
      "text/plain": [
       "                                          tweet_text  \\\n",
       "0  .@wesley83 I have a 3G iPhone. After 3 hrs twe...   \n",
       "1  @jessedee Know about @fludapp ? Awesome iPad/i...   \n",
       "2  @swonderlin Can not wait for #iPad 2 also. The...   \n",
       "3  @sxsw I hope this year's festival isn't as cra...   \n",
       "4  @sxtxstate great stuff on Fri #SXSW: Marissa M...   \n",
       "\n",
       "  emotion_in_tweet_is_directed_at  \\\n",
       "0                          iPhone   \n",
       "1              iPad or iPhone App   \n",
       "2                            iPad   \n",
       "3              iPad or iPhone App   \n",
       "4                          Google   \n",
       "\n",
       "  is_there_an_emotion_directed_at_a_brand_or_product  \n",
       "0                                   Negative emotion  \n",
       "1                                   Positive emotion  \n",
       "2                                   Positive emotion  \n",
       "3                                   Negative emotion  \n",
       "4                                   Positive emotion  "
      ]
     },
     "execution_count": 2,
     "metadata": {},
     "output_type": "execute_result"
    }
   ],
   "source": [
    "df=pd.read_csv('final_dataset_product_tweet.csv',encoding='latin1')\n",
    "df.head()"
   ]
  },
  {
   "cell_type": "code",
   "execution_count": 3,
   "id": "19d1742b",
   "metadata": {},
   "outputs": [
    {
     "data": {
      "text/html": [
       "<div>\n",
       "<style scoped>\n",
       "    .dataframe tbody tr th:only-of-type {\n",
       "        vertical-align: middle;\n",
       "    }\n",
       "\n",
       "    .dataframe tbody tr th {\n",
       "        vertical-align: top;\n",
       "    }\n",
       "\n",
       "    .dataframe thead th {\n",
       "        text-align: right;\n",
       "    }\n",
       "</style>\n",
       "<table border=\"1\" class=\"dataframe\">\n",
       "  <thead>\n",
       "    <tr style=\"text-align: right;\">\n",
       "      <th></th>\n",
       "      <th>text</th>\n",
       "      <th>product</th>\n",
       "      <th>emotion</th>\n",
       "    </tr>\n",
       "  </thead>\n",
       "  <tbody>\n",
       "    <tr>\n",
       "      <th>0</th>\n",
       "      <td>.@wesley83 I have a 3G iPhone. After 3 hrs twe...</td>\n",
       "      <td>iPhone</td>\n",
       "      <td>Negative emotion</td>\n",
       "    </tr>\n",
       "    <tr>\n",
       "      <th>1</th>\n",
       "      <td>@jessedee Know about @fludapp ? Awesome iPad/i...</td>\n",
       "      <td>iPad or iPhone App</td>\n",
       "      <td>Positive emotion</td>\n",
       "    </tr>\n",
       "    <tr>\n",
       "      <th>2</th>\n",
       "      <td>@swonderlin Can not wait for #iPad 2 also. The...</td>\n",
       "      <td>iPad</td>\n",
       "      <td>Positive emotion</td>\n",
       "    </tr>\n",
       "    <tr>\n",
       "      <th>3</th>\n",
       "      <td>@sxsw I hope this year's festival isn't as cra...</td>\n",
       "      <td>iPad or iPhone App</td>\n",
       "      <td>Negative emotion</td>\n",
       "    </tr>\n",
       "    <tr>\n",
       "      <th>4</th>\n",
       "      <td>@sxtxstate great stuff on Fri #SXSW: Marissa M...</td>\n",
       "      <td>Google</td>\n",
       "      <td>Positive emotion</td>\n",
       "    </tr>\n",
       "  </tbody>\n",
       "</table>\n",
       "</div>"
      ],
      "text/plain": [
       "                                                text             product  \\\n",
       "0  .@wesley83 I have a 3G iPhone. After 3 hrs twe...              iPhone   \n",
       "1  @jessedee Know about @fludapp ? Awesome iPad/i...  iPad or iPhone App   \n",
       "2  @swonderlin Can not wait for #iPad 2 also. The...                iPad   \n",
       "3  @sxsw I hope this year's festival isn't as cra...  iPad or iPhone App   \n",
       "4  @sxtxstate great stuff on Fri #SXSW: Marissa M...              Google   \n",
       "\n",
       "            emotion  \n",
       "0  Negative emotion  \n",
       "1  Positive emotion  \n",
       "2  Positive emotion  \n",
       "3  Negative emotion  \n",
       "4  Positive emotion  "
      ]
     },
     "execution_count": 3,
     "metadata": {},
     "output_type": "execute_result"
    }
   ],
   "source": [
    "df.columns=['text','product','emotion']\n",
    "df.head()"
   ]
  },
  {
   "cell_type": "code",
   "execution_count": 4,
   "id": "c6878ea8",
   "metadata": {},
   "outputs": [
    {
     "name": "stdout",
     "output_type": "stream",
     "text": [
      "<class 'pandas.core.frame.DataFrame'>\n",
      "RangeIndex: 9093 entries, 0 to 9092\n",
      "Data columns (total 3 columns):\n",
      " #   Column   Non-Null Count  Dtype \n",
      "---  ------   --------------  ----- \n",
      " 0   text     9092 non-null   object\n",
      " 1   product  3291 non-null   object\n",
      " 2   emotion  9093 non-null   object\n",
      "dtypes: object(3)\n",
      "memory usage: 213.2+ KB\n"
     ]
    }
   ],
   "source": [
    "df.info()"
   ]
  },
  {
   "cell_type": "markdown",
   "id": "1fd7e4a7",
   "metadata": {},
   "source": [
    "  <h1><center>Dealing with null values</center></h1>"
   ]
  },
  {
   "cell_type": "code",
   "execution_count": 5,
   "id": "37f17eba",
   "metadata": {},
   "outputs": [
    {
     "data": {
      "text/plain": [
       "<AxesSubplot:>"
      ]
     },
     "execution_count": 5,
     "metadata": {},
     "output_type": "execute_result"
    },
    {
     "data": {
      "image/png": "[encoded data removed]",
      "text/plain": [
       "<Figure size 432x288 with 1 Axes>"
      ]
     },
     "metadata": {
      "needs_background": "light"
     },
     "output_type": "display_data"
    }
   ],
   "source": [
    "sns.heatmap(df.isnull(),cmap='plasma',cbar=False,yticklabels=False)"
   ]
  },
  {
   "cell_type": "markdown",
   "id": "8582a6c2",
   "metadata": {},
   "source": [
    "**We can see that most of the values in the product column are null values and hence would not provide great insights for the data, so it would be better to drop the column**"
   ]
  },
  {
   "cell_type": "code",
   "execution_count": 6,
   "id": "8a86e9cb",
   "metadata": {},
   "outputs": [
    {
     "data": {
      "text/html": [
       "<div>\n",
       "<style scoped>\n",
       "    .dataframe tbody tr th:only-of-type {\n",
       "        vertical-align: middle;\n",
       "    }\n",
       "\n",
       "    .dataframe tbody tr th {\n",
       "        vertical-align: top;\n",
       "    }\n",
       "\n",
       "    .dataframe thead th {\n",
       "        text-align: right;\n",
       "    }\n",
       "</style>\n",
       "<table border=\"1\" class=\"dataframe\">\n",
       "  <thead>\n",
       "    <tr style=\"text-align: right;\">\n",
       "      <th></th>\n",
       "      <th>text</th>\n",
       "      <th>emotion</th>\n",
       "    </tr>\n",
       "  </thead>\n",
       "  <tbody>\n",
       "    <tr>\n",
       "      <th>0</th>\n",
       "      <td>.@wesley83 I have a 3G iPhone. After 3 hrs twe...</td>\n",
       "      <td>Negative emotion</td>\n",
       "    </tr>\n",
       "    <tr>\n",
       "      <th>1</th>\n",
       "      <td>@jessedee Know about @fludapp ? Awesome iPad/i...</td>\n",
       "      <td>Positive emotion</td>\n",
       "    </tr>\n",
       "    <tr>\n",
       "      <th>2</th>\n",
       "      <td>@swonderlin Can not wait for #iPad 2 also. The...</td>\n",
       "      <td>Positive emotion</td>\n",
       "    </tr>\n",
       "    <tr>\n",
       "      <th>3</th>\n",
       "      <td>@sxsw I hope this year's festival isn't as cra...</td>\n",
       "      <td>Negative emotion</td>\n",
       "    </tr>\n",
       "    <tr>\n",
       "      <th>4</th>\n",
       "      <td>@sxtxstate great stuff on Fri #SXSW: Marissa M...</td>\n",
       "      <td>Positive emotion</td>\n",
       "    </tr>\n",
       "  </tbody>\n",
       "</table>\n",
       "</div>"
      ],
      "text/plain": [
       "                                                text           emotion\n",
       "0  .@wesley83 I have a 3G iPhone. After 3 hrs twe...  Negative emotion\n",
       "1  @jessedee Know about @fludapp ? Awesome iPad/i...  Positive emotion\n",
       "2  @swonderlin Can not wait for #iPad 2 also. The...  Positive emotion\n",
       "3  @sxsw I hope this year's festival isn't as cra...  Negative emotion\n",
       "4  @sxtxstate great stuff on Fri #SXSW: Marissa M...  Positive emotion"
      ]
     },
     "execution_count": 6,
     "metadata": {},
     "output_type": "execute_result"
    }
   ],
   "source": [
    "df.drop('product',axis=1,inplace=True)\n",
    "df.head()"
   ]
  },
  {
   "cell_type": "code",
   "execution_count": 7,
   "id": "d38bc762",
   "metadata": {},
   "outputs": [
    {
     "data": {
      "text/plain": [
       "text       1\n",
       "emotion    0\n",
       "dtype: int64"
      ]
     },
     "execution_count": 7,
     "metadata": {},
     "output_type": "execute_result"
    }
   ],
   "source": [
    "df.isnull().sum()"
   ]
  },
  {
   "cell_type": "code",
   "execution_count": 8,
   "id": "bfb3e30b",
   "metadata": {},
   "outputs": [],
   "source": [
    "df.dropna(inplace=True)"
   ]
  },
  {
   "cell_type": "code",
   "execution_count": 9,
   "id": "5274f913",
   "metadata": {},
   "outputs": [
    {
     "name": "stdout",
     "output_type": "stream",
     "text": [
      "<class 'pandas.core.frame.DataFrame'>\n",
      "Int64Index: 9092 entries, 0 to 9092\n",
      "Data columns (total 2 columns):\n",
      " #   Column   Non-Null Count  Dtype \n",
      "---  ------   --------------  ----- \n",
      " 0   text     9092 non-null   object\n",
      " 1   emotion  9092 non-null   object\n",
      "dtypes: object(2)\n",
      "memory usage: 213.1+ KB\n"
     ]
    }
   ],
   "source": [
    "df.info()"
   ]
  },
  {
   "cell_type": "markdown",
   "id": "77a7e694",
   "metadata": {},
   "source": [
    "**All the null values have been removed from the dataset and so we can proceed to the part of Text Preprocessing**"
   ]
  },
  {
   "cell_type": "markdown",
   "id": "d322e363",
   "metadata": {},
   "source": [
    "  <h1><center>Text Preprocessing</center></h1>"
   ]
  },
  {
   "cell_type": "code",
   "execution_count": 10,
   "id": "94c745be",
   "metadata": {},
   "outputs": [
    {
     "data": {
      "text/html": [
       "<div>\n",
       "<style scoped>\n",
       "    .dataframe tbody tr th:only-of-type {\n",
       "        vertical-align: middle;\n",
       "    }\n",
       "\n",
       "    .dataframe tbody tr th {\n",
       "        vertical-align: top;\n",
       "    }\n",
       "\n",
       "    .dataframe thead th {\n",
       "        text-align: right;\n",
       "    }\n",
       "</style>\n",
       "<table border=\"1\" class=\"dataframe\">\n",
       "  <thead>\n",
       "    <tr style=\"text-align: right;\">\n",
       "      <th></th>\n",
       "      <th>text</th>\n",
       "      <th>emotion</th>\n",
       "    </tr>\n",
       "  </thead>\n",
       "  <tbody>\n",
       "    <tr>\n",
       "      <th>0</th>\n",
       "      <td>.@wesley83 I have a 3G iPhone. After 3 hrs twe...</td>\n",
       "      <td>Negative emotion</td>\n",
       "    </tr>\n",
       "    <tr>\n",
       "      <th>1</th>\n",
       "      <td>@jessedee Know about @fludapp ? Awesome iPad/i...</td>\n",
       "      <td>Positive emotion</td>\n",
       "    </tr>\n",
       "    <tr>\n",
       "      <th>2</th>\n",
       "      <td>@swonderlin Can not wait for #iPad 2 also. The...</td>\n",
       "      <td>Positive emotion</td>\n",
       "    </tr>\n",
       "    <tr>\n",
       "      <th>3</th>\n",
       "      <td>@sxsw I hope this year's festival isn't as cra...</td>\n",
       "      <td>Negative emotion</td>\n",
       "    </tr>\n",
       "    <tr>\n",
       "      <th>4</th>\n",
       "      <td>@sxtxstate great stuff on Fri #SXSW: Marissa M...</td>\n",
       "      <td>Positive emotion</td>\n",
       "    </tr>\n",
       "  </tbody>\n",
       "</table>\n",
       "</div>"
      ],
      "text/plain": [
       "                                                text           emotion\n",
       "0  .@wesley83 I have a 3G iPhone. After 3 hrs twe...  Negative emotion\n",
       "1  @jessedee Know about @fludapp ? Awesome iPad/i...  Positive emotion\n",
       "2  @swonderlin Can not wait for #iPad 2 also. The...  Positive emotion\n",
       "3  @sxsw I hope this year's festival isn't as cra...  Negative emotion\n",
       "4  @sxtxstate great stuff on Fri #SXSW: Marissa M...  Positive emotion"
      ]
     },
     "execution_count": 10,
     "metadata": {},
     "output_type": "execute_result"
    }
   ],
   "source": [
    "df.head()"
   ]
  },
  {
   "cell_type": "markdown",
   "id": "4311bd32",
   "metadata": {},
   "source": [
    "### Emotion column"
   ]
  },
  {
   "cell_type": "code",
   "execution_count": 11,
   "id": "01ec1119",
   "metadata": {},
   "outputs": [
    {
     "data": {
      "text/plain": [
       "No emotion toward brand or product    5388\n",
       "Positive emotion                      2978\n",
       "Negative emotion                       570\n",
       "I can't tell                           156\n",
       "Name: emotion, dtype: int64"
      ]
     },
     "execution_count": 11,
     "metadata": {},
     "output_type": "execute_result"
    }
   ],
   "source": [
    "df['emotion'].value_counts()"
   ]
  },
  {
   "cell_type": "code",
   "execution_count": 12,
   "id": "c7d2c9f5",
   "metadata": {},
   "outputs": [],
   "source": [
    "# combining \"I can't tell\" with \"No emotion toward brand or product\"\n",
    "df['emotion'].replace(\"I can't tell\",\"No emotion toward brand or product\",inplace=True)"
   ]
  },
  {
   "cell_type": "code",
   "execution_count": 13,
   "id": "e3cb4faa",
   "metadata": {},
   "outputs": [
    {
     "data": {
      "text/plain": [
       "No emotion toward brand or product    5544\n",
       "Positive emotion                      2978\n",
       "Negative emotion                       570\n",
       "Name: emotion, dtype: int64"
      ]
     },
     "execution_count": 13,
     "metadata": {},
     "output_type": "execute_result"
    }
   ],
   "source": [
    "df['emotion'].value_counts()"
   ]
  },
  {
   "cell_type": "code",
   "execution_count": 14,
   "id": "ca8610d3",
   "metadata": {},
   "outputs": [],
   "source": [
    "# mapping each of the types to a numeric value\n",
    "# \"Negative emotion\" -----> 0\n",
    "# \"No emotion toward brand or product\" -----> 1\n",
    "# \"Positive emotion\" -----> 2\n",
    "df['emotion']=df['emotion'].map({\"Negative emotion\":0,\"No emotion toward brand or product\":1,\"Positive emotion\":2})"
   ]
  },
  {
   "cell_type": "code",
   "execution_count": 15,
   "id": "02a4356e",
   "metadata": {},
   "outputs": [
    {
     "data": {
      "text/plain": [
       "1    5544\n",
       "2    2978\n",
       "0     570\n",
       "Name: emotion, dtype: int64"
      ]
     },
     "execution_count": 15,
     "metadata": {},
     "output_type": "execute_result"
    }
   ],
   "source": [
    "df['emotion'].value_counts()"
   ]
  },
  {
   "cell_type": "code",
   "execution_count": 16,
   "id": "66205829",
   "metadata": {},
   "outputs": [
    {
     "data": {
      "image/png": "[encoded data removed]",
      "text/plain": [
       "<Figure size 432x288 with 1 Axes>"
      ]
     },
     "metadata": {
      "needs_background": "light"
     },
     "output_type": "display_data"
    }
   ],
   "source": [
    "sns.countplot(x='emotion',data=df)\n",
    "plt.grid()"
   ]
  },
  {
   "cell_type": "markdown",
   "id": "79604697",
   "metadata": {},
   "source": [
    "### Text column"
   ]
  },
  {
   "cell_type": "code",
   "execution_count": 17,
   "id": "66c70055",
   "metadata": {},
   "outputs": [],
   "source": [
    "import re"
   ]
  },
  {
   "cell_type": "code",
   "execution_count": 18,
   "id": "72c870de",
   "metadata": {},
   "outputs": [],
   "source": [
    "# converting the text to lowercase\n",
    "df['text']=df['text'].apply(lambda x:x.lower())"
   ]
  },
  {
   "cell_type": "code",
   "execution_count": 19,
   "id": "a618ebda",
   "metadata": {},
   "outputs": [
    {
     "data": {
      "text/html": [
       "<div>\n",
       "<style scoped>\n",
       "    .dataframe tbody tr th:only-of-type {\n",
       "        vertical-align: middle;\n",
       "    }\n",
       "\n",
       "    .dataframe tbody tr th {\n",
       "        vertical-align: top;\n",
       "    }\n",
       "\n",
       "    .dataframe thead th {\n",
       "        text-align: right;\n",
       "    }\n",
       "</style>\n",
       "<table border=\"1\" class=\"dataframe\">\n",
       "  <thead>\n",
       "    <tr style=\"text-align: right;\">\n",
       "      <th></th>\n",
       "      <th>text</th>\n",
       "      <th>emotion</th>\n",
       "    </tr>\n",
       "  </thead>\n",
       "  <tbody>\n",
       "    <tr>\n",
       "      <th>0</th>\n",
       "      <td>.@wesley83 i have a 3g iphone. after 3 hrs twe...</td>\n",
       "      <td>0</td>\n",
       "    </tr>\n",
       "    <tr>\n",
       "      <th>1</th>\n",
       "      <td>@jessedee know about @fludapp ? awesome ipad/i...</td>\n",
       "      <td>2</td>\n",
       "    </tr>\n",
       "    <tr>\n",
       "      <th>2</th>\n",
       "      <td>@swonderlin can not wait for #ipad 2 also. the...</td>\n",
       "      <td>2</td>\n",
       "    </tr>\n",
       "    <tr>\n",
       "      <th>3</th>\n",
       "      <td>@sxsw i hope this year's festival isn't as cra...</td>\n",
       "      <td>0</td>\n",
       "    </tr>\n",
       "    <tr>\n",
       "      <th>4</th>\n",
       "      <td>@sxtxstate great stuff on fri #sxsw: marissa m...</td>\n",
       "      <td>2</td>\n",
       "    </tr>\n",
       "  </tbody>\n",
       "</table>\n",
       "</div>"
      ],
      "text/plain": [
       "                                                text  emotion\n",
       "0  .@wesley83 i have a 3g iphone. after 3 hrs twe...        0\n",
       "1  @jessedee know about @fludapp ? awesome ipad/i...        2\n",
       "2  @swonderlin can not wait for #ipad 2 also. the...        2\n",
       "3  @sxsw i hope this year's festival isn't as cra...        0\n",
       "4  @sxtxstate great stuff on fri #sxsw: marissa m...        2"
      ]
     },
     "execution_count": 19,
     "metadata": {},
     "output_type": "execute_result"
    }
   ],
   "source": [
    "df.head()"
   ]
  },
  {
   "cell_type": "code",
   "execution_count": 20,
   "id": "3ba0631c",
   "metadata": {},
   "outputs": [],
   "source": [
    "# removing hyperlinks from the text\n",
    "df['text']=df['text'].apply(lambda x:re.sub('http[s]?://\\S+',' ', x))"
   ]
  },
  {
   "cell_type": "code",
   "execution_count": 21,
   "id": "b5fa1e15",
   "metadata": {},
   "outputs": [],
   "source": [
    "# removing non alphabetical characters from the text\n",
    "df['text']=df['text'].apply(lambda x:re.sub(r'[^a-z]+',' ',x))"
   ]
  },
  {
   "cell_type": "code",
   "execution_count": 22,
   "id": "5e11ea35",
   "metadata": {},
   "outputs": [
    {
     "data": {
      "text/html": [
       "<div>\n",
       "<style scoped>\n",
       "    .dataframe tbody tr th:only-of-type {\n",
       "        vertical-align: middle;\n",
       "    }\n",
       "\n",
       "    .dataframe tbody tr th {\n",
       "        vertical-align: top;\n",
       "    }\n",
       "\n",
       "    .dataframe thead th {\n",
       "        text-align: right;\n",
       "    }\n",
       "</style>\n",
       "<table border=\"1\" class=\"dataframe\">\n",
       "  <thead>\n",
       "    <tr style=\"text-align: right;\">\n",
       "      <th></th>\n",
       "      <th>text</th>\n",
       "      <th>emotion</th>\n",
       "    </tr>\n",
       "  </thead>\n",
       "  <tbody>\n",
       "    <tr>\n",
       "      <th>0</th>\n",
       "      <td>wesley i have a g iphone after hrs tweeting a...</td>\n",
       "      <td>0</td>\n",
       "    </tr>\n",
       "    <tr>\n",
       "      <th>1</th>\n",
       "      <td>jessedee know about fludapp awesome ipad ipho...</td>\n",
       "      <td>2</td>\n",
       "    </tr>\n",
       "    <tr>\n",
       "      <th>2</th>\n",
       "      <td>swonderlin can not wait for ipad also they sh...</td>\n",
       "      <td>2</td>\n",
       "    </tr>\n",
       "    <tr>\n",
       "      <th>3</th>\n",
       "      <td>sxsw i hope this year s festival isn t as cra...</td>\n",
       "      <td>0</td>\n",
       "    </tr>\n",
       "    <tr>\n",
       "      <th>4</th>\n",
       "      <td>sxtxstate great stuff on fri sxsw marissa may...</td>\n",
       "      <td>2</td>\n",
       "    </tr>\n",
       "  </tbody>\n",
       "</table>\n",
       "</div>"
      ],
      "text/plain": [
       "                                                text  emotion\n",
       "0   wesley i have a g iphone after hrs tweeting a...        0\n",
       "1   jessedee know about fludapp awesome ipad ipho...        2\n",
       "2   swonderlin can not wait for ipad also they sh...        2\n",
       "3   sxsw i hope this year s festival isn t as cra...        0\n",
       "4   sxtxstate great stuff on fri sxsw marissa may...        2"
      ]
     },
     "execution_count": 22,
     "metadata": {},
     "output_type": "execute_result"
    }
   ],
   "source": [
    "df.head()"
   ]
  },
  {
   "cell_type": "code",
   "execution_count": 23,
   "id": "8d5c7b48",
   "metadata": {},
   "outputs": [],
   "source": [
    "# multiple spaces to a single space\n",
    "df['text']=df['text'].apply(lambda x:\" \".join(x.split()))"
   ]
  },
  {
   "cell_type": "code",
   "execution_count": 24,
   "id": "ed5f3712",
   "metadata": {},
   "outputs": [],
   "source": [
    "# adding a column of length for better insights\n",
    "df['length']=df['text'].apply(len)"
   ]
  },
  {
   "cell_type": "code",
   "execution_count": 25,
   "id": "797467eb",
   "metadata": {},
   "outputs": [
    {
     "data": {
      "text/html": [
       "<div>\n",
       "<style scoped>\n",
       "    .dataframe tbody tr th:only-of-type {\n",
       "        vertical-align: middle;\n",
       "    }\n",
       "\n",
       "    .dataframe tbody tr th {\n",
       "        vertical-align: top;\n",
       "    }\n",
       "\n",
       "    .dataframe thead th {\n",
       "        text-align: right;\n",
       "    }\n",
       "</style>\n",
       "<table border=\"1\" class=\"dataframe\">\n",
       "  <thead>\n",
       "    <tr style=\"text-align: right;\">\n",
       "      <th></th>\n",
       "      <th>text</th>\n",
       "      <th>emotion</th>\n",
       "      <th>length</th>\n",
       "    </tr>\n",
       "  </thead>\n",
       "  <tbody>\n",
       "    <tr>\n",
       "      <th>0</th>\n",
       "      <td>wesley i have a g iphone after hrs tweeting at...</td>\n",
       "      <td>0</td>\n",
       "      <td>112</td>\n",
       "    </tr>\n",
       "    <tr>\n",
       "      <th>1</th>\n",
       "      <td>jessedee know about fludapp awesome ipad iphon...</td>\n",
       "      <td>2</td>\n",
       "      <td>132</td>\n",
       "    </tr>\n",
       "    <tr>\n",
       "      <th>2</th>\n",
       "      <td>swonderlin can not wait for ipad also they sho...</td>\n",
       "      <td>2</td>\n",
       "      <td>72</td>\n",
       "    </tr>\n",
       "  </tbody>\n",
       "</table>\n",
       "</div>"
      ],
      "text/plain": [
       "                                                text  emotion  length\n",
       "0  wesley i have a g iphone after hrs tweeting at...        0     112\n",
       "1  jessedee know about fludapp awesome ipad iphon...        2     132\n",
       "2  swonderlin can not wait for ipad also they sho...        2      72"
      ]
     },
     "execution_count": 25,
     "metadata": {},
     "output_type": "execute_result"
    }
   ],
   "source": [
    "df.head(3)"
   ]
  },
  {
   "cell_type": "code",
   "execution_count": 26,
   "id": "64f9460f",
   "metadata": {},
   "outputs": [
    {
     "data": {
      "text/plain": [
       "<seaborn.axisgrid.FacetGrid at 0x274217ca970>"
      ]
     },
     "execution_count": 26,
     "metadata": {},
     "output_type": "execute_result"
    },
    {
     "data": {
      "image/png": "[encoded data removed]",
      "text/plain": [
       "<Figure size 360x360 with 1 Axes>"
      ]
     },
     "metadata": {
      "needs_background": "light"
     },
     "output_type": "display_data"
    }
   ],
   "source": [
    "# distribution of the length of the reviews\n",
    "sns.displot(df['length'],kde=True)"
   ]
  },
  {
   "cell_type": "code",
   "execution_count": 27,
   "id": "40612474",
   "metadata": {},
   "outputs": [
    {
     "data": {
      "text/plain": [
       "<AxesSubplot:xlabel='emotion', ylabel='length'>"
      ]
     },
     "execution_count": 27,
     "metadata": {},
     "output_type": "execute_result"
    },
    {
     "data": {
      "image/png": "[encoded data removed]",
      "text/plain": [
       "<Figure size 432x288 with 1 Axes>"
      ]
     },
     "metadata": {
      "needs_background": "light"
     },
     "output_type": "display_data"
    }
   ],
   "source": [
    "sns.barplot(x='emotion',y='length',data=df)"
   ]
  },
  {
   "cell_type": "code",
   "execution_count": 28,
   "id": "dd24b77e",
   "metadata": {},
   "outputs": [
    {
     "data": {
      "text/plain": [
       "array([[<AxesSubplot:title={'center':'0'}>,\n",
       "        <AxesSubplot:title={'center':'1'}>],\n",
       "       [<AxesSubplot:title={'center':'2'}>, <AxesSubplot:>]], dtype=object)"
      ]
     },
     "execution_count": 28,
     "metadata": {},
     "output_type": "execute_result"
    },
    {
     "data": {
      "image/png": "[encoded data removed]",
      "text/plain": [
       "<Figure size 1008x432 with 4 Axes>"
      ]
     },
     "metadata": {},
     "output_type": "display_data"
    }
   ],
   "source": [
    "sns.set_style('darkgrid')\n",
    "df.hist(column='length',by='emotion',figsize=(14,6))"
   ]
  },
  {
   "cell_type": "markdown",
   "id": "32a18599",
   "metadata": {},
   "source": [
    "### Tokenizing and removing stopwords"
   ]
  },
  {
   "cell_type": "code",
   "execution_count": 29,
   "id": "de6c8f80",
   "metadata": {},
   "outputs": [],
   "source": [
    "import nltk\n",
    "from nltk.corpus import stopwords"
   ]
  },
  {
   "cell_type": "code",
   "execution_count": 30,
   "id": "b678ac40",
   "metadata": {},
   "outputs": [],
   "source": [
    "def stopwords_removal(text):\n",
    "    return [w for w in text.split() if w not in stopwords.words('english')]"
   ]
  },
  {
   "cell_type": "code",
   "execution_count": 31,
   "id": "22b712c6",
   "metadata": {},
   "outputs": [],
   "source": [
    "df['text']=df['text'].apply(stopwords_removal)"
   ]
  },
  {
   "cell_type": "code",
   "execution_count": 32,
   "id": "eed305d1",
   "metadata": {},
   "outputs": [
    {
     "data": {
      "text/html": [
       "<div>\n",
       "<style scoped>\n",
       "    .dataframe tbody tr th:only-of-type {\n",
       "        vertical-align: middle;\n",
       "    }\n",
       "\n",
       "    .dataframe tbody tr th {\n",
       "        vertical-align: top;\n",
       "    }\n",
       "\n",
       "    .dataframe thead th {\n",
       "        text-align: right;\n",
       "    }\n",
       "</style>\n",
       "<table border=\"1\" class=\"dataframe\">\n",
       "  <thead>\n",
       "    <tr style=\"text-align: right;\">\n",
       "      <th></th>\n",
       "      <th>text</th>\n",
       "      <th>emotion</th>\n",
       "      <th>length</th>\n",
       "    </tr>\n",
       "  </thead>\n",
       "  <tbody>\n",
       "    <tr>\n",
       "      <th>0</th>\n",
       "      <td>[wesley, g, iphone, hrs, tweeting, rise, austi...</td>\n",
       "      <td>0</td>\n",
       "      <td>112</td>\n",
       "    </tr>\n",
       "    <tr>\n",
       "      <th>1</th>\n",
       "      <td>[jessedee, know, fludapp, awesome, ipad, iphon...</td>\n",
       "      <td>2</td>\n",
       "      <td>132</td>\n",
       "    </tr>\n",
       "    <tr>\n",
       "      <th>2</th>\n",
       "      <td>[swonderlin, wait, ipad, also, sale, sxsw]</td>\n",
       "      <td>2</td>\n",
       "      <td>72</td>\n",
       "    </tr>\n",
       "    <tr>\n",
       "      <th>3</th>\n",
       "      <td>[sxsw, hope, year, festival, crashy, year, iph...</td>\n",
       "      <td>0</td>\n",
       "      <td>79</td>\n",
       "    </tr>\n",
       "    <tr>\n",
       "      <th>4</th>\n",
       "      <td>[sxtxstate, great, stuff, fri, sxsw, marissa, ...</td>\n",
       "      <td>2</td>\n",
       "      <td>119</td>\n",
       "    </tr>\n",
       "  </tbody>\n",
       "</table>\n",
       "</div>"
      ],
      "text/plain": [
       "                                                text  emotion  length\n",
       "0  [wesley, g, iphone, hrs, tweeting, rise, austi...        0     112\n",
       "1  [jessedee, know, fludapp, awesome, ipad, iphon...        2     132\n",
       "2         [swonderlin, wait, ipad, also, sale, sxsw]        2      72\n",
       "3  [sxsw, hope, year, festival, crashy, year, iph...        0      79\n",
       "4  [sxtxstate, great, stuff, fri, sxsw, marissa, ...        2     119"
      ]
     },
     "execution_count": 32,
     "metadata": {},
     "output_type": "execute_result"
    }
   ],
   "source": [
    "df.head()"
   ]
  },
  {
   "cell_type": "code",
   "execution_count": 33,
   "id": "c051fcdc",
   "metadata": {},
   "outputs": [],
   "source": [
    "#dropping the length column\n",
    "df.drop('length',axis=1,inplace=True)"
   ]
  },
  {
   "cell_type": "code",
   "execution_count": 34,
   "id": "6908d64d",
   "metadata": {},
   "outputs": [],
   "source": [
    "from nltk.stem import WordNetLemmatizer"
   ]
  },
  {
   "cell_type": "code",
   "execution_count": 35,
   "id": "68c42e3e",
   "metadata": {},
   "outputs": [],
   "source": [
    "def lemmatizer(text):\n",
    "    lemma=WordNetLemmatizer()\n",
    "    return [lemma.lemmatize(w) for w in text]"
   ]
  },
  {
   "cell_type": "code",
   "execution_count": 36,
   "id": "3ab3af00",
   "metadata": {},
   "outputs": [],
   "source": [
    "df['text']=df['text'].apply(lemmatizer)"
   ]
  },
  {
   "cell_type": "code",
   "execution_count": 37,
   "id": "c1d65b33",
   "metadata": {},
   "outputs": [
    {
     "data": {
      "text/html": [
       "<div>\n",
       "<style scoped>\n",
       "    .dataframe tbody tr th:only-of-type {\n",
       "        vertical-align: middle;\n",
       "    }\n",
       "\n",
       "    .dataframe tbody tr th {\n",
       "        vertical-align: top;\n",
       "    }\n",
       "\n",
       "    .dataframe thead th {\n",
       "        text-align: right;\n",
       "    }\n",
       "</style>\n",
       "<table border=\"1\" class=\"dataframe\">\n",
       "  <thead>\n",
       "    <tr style=\"text-align: right;\">\n",
       "      <th></th>\n",
       "      <th>text</th>\n",
       "      <th>emotion</th>\n",
       "    </tr>\n",
       "  </thead>\n",
       "  <tbody>\n",
       "    <tr>\n",
       "      <th>0</th>\n",
       "      <td>[wesley, g, iphone, hr, tweeting, rise, austin...</td>\n",
       "      <td>0</td>\n",
       "    </tr>\n",
       "    <tr>\n",
       "      <th>1</th>\n",
       "      <td>[jessedee, know, fludapp, awesome, ipad, iphon...</td>\n",
       "      <td>2</td>\n",
       "    </tr>\n",
       "    <tr>\n",
       "      <th>2</th>\n",
       "      <td>[swonderlin, wait, ipad, also, sale, sxsw]</td>\n",
       "      <td>2</td>\n",
       "    </tr>\n",
       "    <tr>\n",
       "      <th>3</th>\n",
       "      <td>[sxsw, hope, year, festival, crashy, year, iph...</td>\n",
       "      <td>0</td>\n",
       "    </tr>\n",
       "    <tr>\n",
       "      <th>4</th>\n",
       "      <td>[sxtxstate, great, stuff, fri, sxsw, marissa, ...</td>\n",
       "      <td>2</td>\n",
       "    </tr>\n",
       "  </tbody>\n",
       "</table>\n",
       "</div>"
      ],
      "text/plain": [
       "                                                text  emotion\n",
       "0  [wesley, g, iphone, hr, tweeting, rise, austin...        0\n",
       "1  [jessedee, know, fludapp, awesome, ipad, iphon...        2\n",
       "2         [swonderlin, wait, ipad, also, sale, sxsw]        2\n",
       "3  [sxsw, hope, year, festival, crashy, year, iph...        0\n",
       "4  [sxtxstate, great, stuff, fri, sxsw, marissa, ...        2"
      ]
     },
     "execution_count": 37,
     "metadata": {},
     "output_type": "execute_result"
    }
   ],
   "source": [
    "df.head()"
   ]
  },
  {
   "cell_type": "code",
   "execution_count": 38,
   "id": "902820c0",
   "metadata": {},
   "outputs": [
    {
     "data": {
      "text/html": [
       "<div>\n",
       "<style scoped>\n",
       "    .dataframe tbody tr th:only-of-type {\n",
       "        vertical-align: middle;\n",
       "    }\n",
       "\n",
       "    .dataframe tbody tr th {\n",
       "        vertical-align: top;\n",
       "    }\n",
       "\n",
       "    .dataframe thead th {\n",
       "        text-align: right;\n",
       "    }\n",
       "</style>\n",
       "<table border=\"1\" class=\"dataframe\">\n",
       "  <thead>\n",
       "    <tr style=\"text-align: right;\">\n",
       "      <th></th>\n",
       "      <th>text</th>\n",
       "      <th>emotion</th>\n",
       "    </tr>\n",
       "  </thead>\n",
       "  <tbody>\n",
       "    <tr>\n",
       "      <th>0</th>\n",
       "      <td>[wesley, iphone, hr, tweeting, rise, austin, d...</td>\n",
       "      <td>0</td>\n",
       "    </tr>\n",
       "    <tr>\n",
       "      <th>1</th>\n",
       "      <td>[jessedee, know, fludapp, awesome, ipad, iphon...</td>\n",
       "      <td>2</td>\n",
       "    </tr>\n",
       "    <tr>\n",
       "      <th>2</th>\n",
       "      <td>[swonderlin, wait, ipad, also, sale]</td>\n",
       "      <td>2</td>\n",
       "    </tr>\n",
       "  </tbody>\n",
       "</table>\n",
       "</div>"
      ],
      "text/plain": [
       "                                                text  emotion\n",
       "0  [wesley, iphone, hr, tweeting, rise, austin, d...        0\n",
       "1  [jessedee, know, fludapp, awesome, ipad, iphon...        2\n",
       "2               [swonderlin, wait, ipad, also, sale]        2"
      ]
     },
     "execution_count": 38,
     "metadata": {},
     "output_type": "execute_result"
    }
   ],
   "source": [
    "# removing one length words and the word \"sxsw\"\n",
    "def one_letter_word_removal(text):\n",
    "    return [w for w in text if len(w)>1 and w!=\"sxsw\"]\n",
    "\n",
    "df['text']=df['text'].apply(one_letter_word_removal)\n",
    "df.head(3)"
   ]
  },
  {
   "cell_type": "code",
   "execution_count": 39,
   "id": "aea90310",
   "metadata": {},
   "outputs": [
    {
     "data": {
      "text/html": [
       "<div>\n",
       "<style scoped>\n",
       "    .dataframe tbody tr th:only-of-type {\n",
       "        vertical-align: middle;\n",
       "    }\n",
       "\n",
       "    .dataframe tbody tr th {\n",
       "        vertical-align: top;\n",
       "    }\n",
       "\n",
       "    .dataframe thead th {\n",
       "        text-align: right;\n",
       "    }\n",
       "</style>\n",
       "<table border=\"1\" class=\"dataframe\">\n",
       "  <thead>\n",
       "    <tr style=\"text-align: right;\">\n",
       "      <th></th>\n",
       "      <th>text</th>\n",
       "      <th>emotion</th>\n",
       "    </tr>\n",
       "  </thead>\n",
       "  <tbody>\n",
       "    <tr>\n",
       "      <th>0</th>\n",
       "      <td>wesley iphone hr tweeting rise austin dead nee...</td>\n",
       "      <td>0</td>\n",
       "    </tr>\n",
       "    <tr>\n",
       "      <th>1</th>\n",
       "      <td>jessedee know fludapp awesome ipad iphone app ...</td>\n",
       "      <td>2</td>\n",
       "    </tr>\n",
       "    <tr>\n",
       "      <th>2</th>\n",
       "      <td>swonderlin wait ipad also sale</td>\n",
       "      <td>2</td>\n",
       "    </tr>\n",
       "    <tr>\n",
       "      <th>3</th>\n",
       "      <td>hope year festival crashy year iphone app</td>\n",
       "      <td>0</td>\n",
       "    </tr>\n",
       "    <tr>\n",
       "      <th>4</th>\n",
       "      <td>sxtxstate great stuff fri marissa mayer google...</td>\n",
       "      <td>2</td>\n",
       "    </tr>\n",
       "  </tbody>\n",
       "</table>\n",
       "</div>"
      ],
      "text/plain": [
       "                                                text  emotion\n",
       "0  wesley iphone hr tweeting rise austin dead nee...        0\n",
       "1  jessedee know fludapp awesome ipad iphone app ...        2\n",
       "2                     swonderlin wait ipad also sale        2\n",
       "3          hope year festival crashy year iphone app        0\n",
       "4  sxtxstate great stuff fri marissa mayer google...        2"
      ]
     },
     "execution_count": 39,
     "metadata": {},
     "output_type": "execute_result"
    }
   ],
   "source": [
    "# joining the list of words to form the review\n",
    "df['text']=df['text'].apply(lambda x:\" \".join(x))\n",
    "df.head()"
   ]
  },
  {
   "cell_type": "markdown",
   "id": "26858bfa",
   "metadata": {},
   "source": [
    "### Bag of Words transformer"
   ]
  },
  {
   "cell_type": "code",
   "execution_count": 40,
   "id": "97ea93d6",
   "metadata": {},
   "outputs": [],
   "source": [
    "from sklearn.feature_extraction.text import CountVectorizer"
   ]
  },
  {
   "cell_type": "code",
   "execution_count": 41,
   "id": "b22cad0b",
   "metadata": {},
   "outputs": [],
   "source": [
    "# fitting the bow transformer to the text column and transforming it\n",
    "bow_transformer=CountVectorizer().fit(df['text'])"
   ]
  },
  {
   "cell_type": "code",
   "execution_count": 42,
   "id": "246d18dd",
   "metadata": {},
   "outputs": [
    {
     "name": "stdout",
     "output_type": "stream",
     "text": [
      "8362\n"
     ]
    }
   ],
   "source": [
    "# total number of different words present in the corpus\n",
    "print(len(bow_transformer.vocabulary_))"
   ]
  },
  {
   "cell_type": "markdown",
   "id": "a75c7af4",
   "metadata": {},
   "source": [
    "**So there are 8362 unique words in the entire text column**"
   ]
  },
  {
   "cell_type": "code",
   "execution_count": 43,
   "id": "7d5cab38",
   "metadata": {},
   "outputs": [
    {
     "data": {
      "text/plain": [
       "'wesley iphone hr tweeting rise austin dead need upgrade plugin station'"
      ]
     },
     "execution_count": 43,
     "metadata": {},
     "output_type": "execute_result"
    }
   ],
   "source": [
    "sample_text=df['text'][0]\n",
    "sample_text"
   ]
  },
  {
   "cell_type": "code",
   "execution_count": 44,
   "id": "0bd441bd",
   "metadata": {},
   "outputs": [
    {
     "name": "stdout",
     "output_type": "stream",
     "text": [
      "  (0, 467)\t1\n",
      "  (0, 1784)\t1\n",
      "  (0, 3489)\t1\n",
      "  (0, 3805)\t1\n",
      "  (0, 4869)\t1\n",
      "  (0, 5507)\t1\n",
      "  (0, 6194)\t1\n",
      "  (0, 6942)\t1\n",
      "  (0, 7683)\t1\n",
      "  (0, 7819)\t1\n",
      "  (0, 8089)\t1\n"
     ]
    }
   ],
   "source": [
    "# vector representation of the sample_text\n",
    "bow_sample=bow_transformer.transform([sample_text])\n",
    "print(bow_sample)"
   ]
  },
  {
   "cell_type": "code",
   "execution_count": 45,
   "id": "2cd9be8f",
   "metadata": {},
   "outputs": [],
   "source": [
    "# applying the bow transformer to the entire column\n",
    "text_bow=bow_transformer.transform(df['text'])"
   ]
  },
  {
   "cell_type": "code",
   "execution_count": 46,
   "id": "97b1d54e",
   "metadata": {},
   "outputs": [
    {
     "name": "stdout",
     "output_type": "stream",
     "text": [
      "The shape of the matrix is:  (9092, 8362)\n"
     ]
    }
   ],
   "source": [
    "print(\"The shape of the matrix is: \",text_bow.shape)\n",
    "# 9092 different reviews and 7046 unique words in the entire corpus"
   ]
  },
  {
   "cell_type": "code",
   "execution_count": 47,
   "id": "6232124a",
   "metadata": {},
   "outputs": [
    {
     "name": "stdout",
     "output_type": "stream",
     "text": [
      "The number of non zero values in the matrix:  94097\n"
     ]
    }
   ],
   "source": [
    "print(\"The number of non zero values in the matrix: \",text_bow.nnz)"
   ]
  },
  {
   "cell_type": "code",
   "execution_count": 48,
   "id": "8b0f3dfa",
   "metadata": {},
   "outputs": [
    {
     "name": "stdout",
     "output_type": "stream",
     "text": [
      "Sparcity of the matrix:  0.12376737704654107\n"
     ]
    }
   ],
   "source": [
    "print(\"Sparcity of the matrix: \",100*text_bow.nnz/(text_bow.shape[0]*text_bow.shape[1]))"
   ]
  },
  {
   "cell_type": "markdown",
   "id": "fcfdc251",
   "metadata": {},
   "source": [
    "The matrix is very sparse since most of the values would be zero"
   ]
  },
  {
   "cell_type": "markdown",
   "id": "a7497bdb",
   "metadata": {},
   "source": [
    "### Term Frequency - Inverse Document Frequency (Tf-Idf) Transformer"
   ]
  },
  {
   "cell_type": "code",
   "execution_count": 49,
   "id": "b1291b85",
   "metadata": {},
   "outputs": [],
   "source": [
    "from sklearn.feature_extraction.text import TfidfTransformer"
   ]
  },
  {
   "cell_type": "code",
   "execution_count": 50,
   "id": "8e90a258",
   "metadata": {},
   "outputs": [
    {
     "name": "stdout",
     "output_type": "stream",
     "text": [
      "  (0, 8089)\t0.4069381486031512\n",
      "  (0, 7819)\t0.32289489050899\n",
      "  (0, 7683)\t0.2914424946876744\n",
      "  (0, 6942)\t0.326095590928572\n",
      "  (0, 6194)\t0.3295526107415517\n",
      "  (0, 5507)\t0.36736383500723685\n",
      "  (0, 4869)\t0.2018186218344815\n",
      "  (0, 3805)\t0.11921470072593576\n",
      "  (0, 3489)\t0.35283170307010464\n",
      "  (0, 1784)\t0.3097055514211033\n",
      "  (0, 467)\t0.14124949551505117\n"
     ]
    }
   ],
   "source": [
    "tfidf_transformer=TfidfTransformer().fit(text_bow)\n",
    "tfidf_sample=tfidf_transformer.transform(bow_sample)\n",
    "print(tfidf_sample)"
   ]
  },
  {
   "cell_type": "code",
   "execution_count": 51,
   "id": "2833ed55",
   "metadata": {},
   "outputs": [
    {
     "name": "stdout",
     "output_type": "stream",
     "text": [
      "(9092, 8362)\n"
     ]
    }
   ],
   "source": [
    "# applying the tfidf_transformer to the entire column\n",
    "text_tfidf=tfidf_transformer.transform(text_bow)\n",
    "print(text_tfidf.shape)"
   ]
  },
  {
   "cell_type": "markdown",
   "id": "cc1d5cf3",
   "metadata": {},
   "source": [
    "### Train Test Split"
   ]
  },
  {
   "cell_type": "code",
   "execution_count": 52,
   "id": "ad1bd3b2",
   "metadata": {},
   "outputs": [],
   "source": [
    "X=df['text']\n",
    "y=df['emotion']"
   ]
  },
  {
   "cell_type": "code",
   "execution_count": 53,
   "id": "51a95478",
   "metadata": {},
   "outputs": [],
   "source": [
    "from sklearn.model_selection import train_test_split"
   ]
  },
  {
   "cell_type": "code",
   "execution_count": 54,
   "id": "29d03426",
   "metadata": {},
   "outputs": [],
   "source": [
    "# splitting the dataset into 75% train and 25% test\n",
    "X_train, X_test, y_train, y_test = train_test_split(X, y, test_size=0.25)"
   ]
  },
  {
   "cell_type": "code",
   "execution_count": 55,
   "id": "459ee21d",
   "metadata": {},
   "outputs": [
    {
     "name": "stdout",
     "output_type": "stream",
     "text": [
      "6819 2273 9092\n"
     ]
    }
   ],
   "source": [
    "print(len(X_train),len(X_test),len(X_train)+len(X_test))"
   ]
  },
  {
   "cell_type": "markdown",
   "id": "587f3dd1",
   "metadata": {},
   "source": [
    "  <h1><center>Model Creation and Evaluation</center></h1>"
   ]
  },
  {
   "cell_type": "markdown",
   "id": "ba325227",
   "metadata": {},
   "source": [
    "The task of Bag-of-Words transformer followed by the Tf-Idf transformer and model creation can all be done in one single step using a pipeline provided by Scikit Learn"
   ]
  },
  {
   "cell_type": "code",
   "execution_count": 56,
   "id": "fb466c3d",
   "metadata": {},
   "outputs": [],
   "source": [
    "from sklearn.pipeline import Pipeline"
   ]
  },
  {
   "cell_type": "markdown",
   "id": "c5e97a4c",
   "metadata": {},
   "source": [
    "### Multinomial Naive Bayes"
   ]
  },
  {
   "cell_type": "code",
   "execution_count": 57,
   "id": "56d62070",
   "metadata": {},
   "outputs": [],
   "source": [
    "from sklearn.naive_bayes import MultinomialNB"
   ]
  },
  {
   "cell_type": "code",
   "execution_count": 58,
   "id": "eefc8718",
   "metadata": {},
   "outputs": [],
   "source": [
    "pipe1=Pipeline([\n",
    "    ('bow',CountVectorizer()),    # strings to integer token counts\n",
    "    ('tfidf',TfidfTransformer()),  # tokens counts to TF-IDF weights\n",
    "    ('classifier',MultinomialNB())  # classification algorithm\n",
    "])"
   ]
  },
  {
   "cell_type": "code",
   "execution_count": 59,
   "id": "9c6550e0",
   "metadata": {},
   "outputs": [
    {
     "data": {
      "text/plain": [
       "Pipeline(steps=[('bow', CountVectorizer()), ('tfidf', TfidfTransformer()),\n",
       "                ('classifier', MultinomialNB())])"
      ]
     },
     "execution_count": 59,
     "metadata": {},
     "output_type": "execute_result"
    }
   ],
   "source": [
    "# fitting the pipeline\n",
    "pipe1.fit(X_train,y_train)"
   ]
  },
  {
   "cell_type": "code",
   "execution_count": 60,
   "id": "d54fefb7",
   "metadata": {},
   "outputs": [],
   "source": [
    "# making predictions\n",
    "predictions_nb=pipe1.predict(X_test)"
   ]
  },
  {
   "cell_type": "code",
   "execution_count": 61,
   "id": "21fb57e9",
   "metadata": {},
   "outputs": [
    {
     "data": {
      "text/plain": [
       "array([1, 1, 1, ..., 1, 1, 1], dtype=int64)"
      ]
     },
     "execution_count": 61,
     "metadata": {},
     "output_type": "execute_result"
    }
   ],
   "source": [
    "predictions_nb"
   ]
  },
  {
   "cell_type": "code",
   "execution_count": 62,
   "id": "ea810ab4",
   "metadata": {},
   "outputs": [],
   "source": [
    "from sklearn.metrics import classification_report,confusion_matrix"
   ]
  },
  {
   "cell_type": "code",
   "execution_count": 63,
   "id": "09a35df1",
   "metadata": {},
   "outputs": [],
   "source": [
    "def metrics(y_true,y_pred):\n",
    "    print(classification_report(y_true,y_pred))\n",
    "    print(\"\\n\")\n",
    "    print(confusion_matrix(y_true,y_pred))"
   ]
  },
  {
   "cell_type": "code",
   "execution_count": 64,
   "id": "fc4f68e3",
   "metadata": {},
   "outputs": [
    {
     "name": "stdout",
     "output_type": "stream",
     "text": [
      "              precision    recall  f1-score   support\n",
      "\n",
      "           0       0.50      0.01      0.01       146\n",
      "           1       0.67      0.96      0.79      1422\n",
      "           2       0.71      0.24      0.36       705\n",
      "\n",
      "    accuracy                           0.68      2273\n",
      "   macro avg       0.63      0.40      0.39      2273\n",
      "weighted avg       0.67      0.68      0.61      2273\n",
      "\n",
      "\n",
      "\n",
      "[[   1  131   14]\n",
      " [   1 1365   56]\n",
      " [   0  534  171]]\n"
     ]
    }
   ],
   "source": [
    "metrics(y_test,predictions_nb)"
   ]
  },
  {
   "cell_type": "markdown",
   "id": "0dcc617f",
   "metadata": {},
   "source": [
    "### Logistic Regression"
   ]
  },
  {
   "cell_type": "code",
   "execution_count": 65,
   "id": "41e4d67e",
   "metadata": {},
   "outputs": [],
   "source": [
    "from sklearn.linear_model import LogisticRegression"
   ]
  },
  {
   "cell_type": "code",
   "execution_count": 66,
   "id": "19dd1e2f",
   "metadata": {},
   "outputs": [],
   "source": [
    "pipe2=Pipeline([\n",
    "    ('bow',CountVectorizer()),    # strings to integer token counts\n",
    "    ('tfidf',TfidfTransformer()),  # tokens counts to TF-IDF weights\n",
    "    ('classifier',LogisticRegression())  # classification algorithm\n",
    "])"
   ]
  },
  {
   "cell_type": "code",
   "execution_count": 67,
   "id": "174992a6",
   "metadata": {},
   "outputs": [
    {
     "name": "stderr",
     "output_type": "stream",
     "text": [
      "C:\\Users\\DS\\anaconda3\\lib\\site-packages\\sklearn\\linear_model\\_logistic.py:763: ConvergenceWarning: lbfgs failed to converge (status=1):\n",
      "STOP: TOTAL NO. of ITERATIONS REACHED LIMIT.\n",
      "\n",
      "Increase the number of iterations (max_iter) or scale the data as shown in:\n",
      "    https://scikit-learn.org/stable/modules/preprocessing.html\n",
      "Please also refer to the documentation for alternative solver options:\n",
      "    https://scikit-learn.org/stable/modules/linear_model.html#logistic-regression\n",
      "  n_iter_i = _check_optimize_result(\n"
     ]
    },
    {
     "data": {
      "text/plain": [
       "Pipeline(steps=[('bow', CountVectorizer()), ('tfidf', TfidfTransformer()),\n",
       "                ('classifier', LogisticRegression())])"
      ]
     },
     "execution_count": 67,
     "metadata": {},
     "output_type": "execute_result"
    }
   ],
   "source": [
    "pipe2.fit(X_train,y_train)"
   ]
  },
  {
   "cell_type": "code",
   "execution_count": 68,
   "id": "352f9ef7",
   "metadata": {},
   "outputs": [],
   "source": [
    "predictions_lg=pipe2.predict(X_test)"
   ]
  },
  {
   "cell_type": "code",
   "execution_count": 69,
   "id": "125c04f2",
   "metadata": {},
   "outputs": [
    {
     "name": "stdout",
     "output_type": "stream",
     "text": [
      "              precision    recall  f1-score   support\n",
      "\n",
      "           0       0.90      0.06      0.12       146\n",
      "           1       0.73      0.88      0.80      1422\n",
      "           2       0.62      0.49      0.55       705\n",
      "\n",
      "    accuracy                           0.70      2273\n",
      "   macro avg       0.75      0.48      0.49      2273\n",
      "weighted avg       0.71      0.70      0.68      2273\n",
      "\n",
      "\n",
      "\n",
      "[[   9  103   34]\n",
      " [   1 1248  173]\n",
      " [   0  360  345]]\n"
     ]
    }
   ],
   "source": [
    "metrics(y_test,predictions_lg)"
   ]
  },
  {
   "cell_type": "markdown",
   "id": "3edd70d9",
   "metadata": {},
   "source": [
    "### Random Forest Classifier"
   ]
  },
  {
   "cell_type": "code",
   "execution_count": 70,
   "id": "453332f5",
   "metadata": {},
   "outputs": [],
   "source": [
    "from sklearn.ensemble import RandomForestClassifier"
   ]
  },
  {
   "cell_type": "code",
   "execution_count": 71,
   "id": "b2a4109c",
   "metadata": {},
   "outputs": [],
   "source": [
    "pipe3=Pipeline([\n",
    "    ('bow',CountVectorizer()),    # strings to integer token counts\n",
    "    ('tfidf',TfidfTransformer()),  # tokens counts to TF-IDF weights\n",
    "    ('classifier',RandomForestClassifier(n_estimators=400))  # classification algorithm\n",
    "])"
   ]
  },
  {
   "cell_type": "code",
   "execution_count": 72,
   "id": "1fc17954",
   "metadata": {},
   "outputs": [
    {
     "data": {
      "text/plain": [
       "Pipeline(steps=[('bow', CountVectorizer()), ('tfidf', TfidfTransformer()),\n",
       "                ('classifier', RandomForestClassifier(n_estimators=400))])"
      ]
     },
     "execution_count": 72,
     "metadata": {},
     "output_type": "execute_result"
    }
   ],
   "source": [
    "pipe3.fit(X_train,y_train)"
   ]
  },
  {
   "cell_type": "code",
   "execution_count": 73,
   "id": "3696ea2e",
   "metadata": {},
   "outputs": [],
   "source": [
    "predictions_rf=pipe3.predict(X_test)"
   ]
  },
  {
   "cell_type": "code",
   "execution_count": 74,
   "id": "52a8f922",
   "metadata": {},
   "outputs": [
    {
     "name": "stdout",
     "output_type": "stream",
     "text": [
      "              precision    recall  f1-score   support\n",
      "\n",
      "           0       0.68      0.18      0.28       146\n",
      "           1       0.71      0.89      0.79      1422\n",
      "           2       0.65      0.43      0.52       705\n",
      "\n",
      "    accuracy                           0.70      2273\n",
      "   macro avg       0.68      0.50      0.53      2273\n",
      "weighted avg       0.69      0.70      0.67      2273\n",
      "\n",
      "\n",
      "\n",
      "[[  26  105   15]\n",
      " [  11 1263  148]\n",
      " [   1  402  302]]\n"
     ]
    }
   ],
   "source": [
    "metrics(y_test,predictions_rf)"
   ]
  },
  {
   "cell_type": "markdown",
   "id": "5eeb773f",
   "metadata": {},
   "source": [
    "### SVM"
   ]
  },
  {
   "cell_type": "code",
   "execution_count": 75,
   "id": "277e36f1",
   "metadata": {},
   "outputs": [],
   "source": [
    "from sklearn.svm import SVC"
   ]
  },
  {
   "cell_type": "code",
   "execution_count": 76,
   "id": "27a3a834",
   "metadata": {},
   "outputs": [],
   "source": [
    "pipe4=Pipeline([\n",
    "    ('bow',CountVectorizer()),    # strings to integer token counts\n",
    "    ('tfidf',TfidfTransformer()),  # tokens counts to TF-IDF weights\n",
    "    ('classifier',SVC())  # classification algorithm\n",
    "])"
   ]
  },
  {
   "cell_type": "code",
   "execution_count": 77,
   "id": "2c5a5918",
   "metadata": {},
   "outputs": [
    {
     "data": {
      "text/plain": [
       "Pipeline(steps=[('bow', CountVectorizer()), ('tfidf', TfidfTransformer()),\n",
       "                ('classifier', SVC())])"
      ]
     },
     "execution_count": 77,
     "metadata": {},
     "output_type": "execute_result"
    }
   ],
   "source": [
    "pipe4.fit(X_train,y_train)"
   ]
  },
  {
   "cell_type": "code",
   "execution_count": 78,
   "id": "c7b76f99",
   "metadata": {},
   "outputs": [],
   "source": [
    "predictions_svc=pipe4.predict(X_test)"
   ]
  },
  {
   "cell_type": "code",
   "execution_count": 79,
   "id": "25e0f5d0",
   "metadata": {},
   "outputs": [
    {
     "name": "stdout",
     "output_type": "stream",
     "text": [
      "              precision    recall  f1-score   support\n",
      "\n",
      "           0       0.84      0.11      0.19       146\n",
      "           1       0.72      0.90      0.80      1422\n",
      "           2       0.67      0.46      0.54       705\n",
      "\n",
      "    accuracy                           0.71      2273\n",
      "   macro avg       0.75      0.49      0.51      2273\n",
      "weighted avg       0.72      0.71      0.68      2273\n",
      "\n",
      "\n",
      "\n",
      "[[  16  105   25]\n",
      " [   3 1285  134]\n",
      " [   0  383  322]]\n"
     ]
    }
   ],
   "source": [
    "metrics(y_test,predictions_svc)"
   ]
  },
  {
   "cell_type": "markdown",
   "id": "65650a76",
   "metadata": {},
   "source": [
    "**Hyper-Parameter Tuning**"
   ]
  },
  {
   "cell_type": "code",
   "execution_count": 103,
   "id": "fc1f98e1",
   "metadata": {},
   "outputs": [],
   "source": [
    "from sklearn.model_selection import RandomizedSearchCV"
   ]
  },
  {
   "cell_type": "code",
   "execution_count": 110,
   "id": "7dfb68c2",
   "metadata": {},
   "outputs": [],
   "source": [
    "# For using RandomizedSearchCV we would need to specify the parameters and their corresponding values on which it would work\n",
    "# and find the best values\n",
    "\n",
    "C=[0.1,1,10,20,50,100]\n",
    "gamma=[0.0001,0.001,0.1,1,10]\n",
    "kernel=['rbf','linear','sigmoid']"
   ]
  },
  {
   "cell_type": "code",
   "execution_count": 111,
   "id": "04a88117",
   "metadata": {},
   "outputs": [],
   "source": [
    "random_grid = {'C': C,\n",
    "               'gamma': gamma,\n",
    "               'kernel': kernel}"
   ]
  },
  {
   "cell_type": "code",
   "execution_count": 112,
   "id": "8d5f27f3",
   "metadata": {},
   "outputs": [],
   "source": [
    "model_svc_tuned=SVC()"
   ]
  },
  {
   "cell_type": "code",
   "execution_count": 113,
   "id": "439e6f3f",
   "metadata": {},
   "outputs": [],
   "source": [
    "SVC_tuned = RandomizedSearchCV(estimator = model_svc_tuned, \n",
    "                               param_distributions = random_grid, \n",
    "                               n_iter = 40, cv = 3, verbose=2, \n",
    "                               random_state=42,n_jobs=-1)"
   ]
  },
  {
   "cell_type": "code",
   "execution_count": 114,
   "id": "7c43a071",
   "metadata": {},
   "outputs": [],
   "source": [
    "# we need to split the data based on the tfidf transformed matrix which earlier was done as part of the pipeline\n",
    "X_train_tuned, X_test_tuned, y_train_tuned, y_test_tuned = train_test_split(text_tfidf, df['emotion'], test_size=0.25)"
   ]
  },
  {
   "cell_type": "code",
   "execution_count": 115,
   "id": "49a16956",
   "metadata": {},
   "outputs": [
    {
     "name": "stdout",
     "output_type": "stream",
     "text": [
      "Fitting 3 folds for each of 40 candidates, totalling 120 fits\n"
     ]
    },
    {
     "data": {
      "text/plain": [
       "RandomizedSearchCV(cv=3, estimator=SVC(), n_iter=40, n_jobs=-1,\n",
       "                   param_distributions={'C': [0.1, 1, 10, 20, 50, 100],\n",
       "                                        'gamma': [0.0001, 0.001, 0.1, 1, 10],\n",
       "                                        'kernel': ['rbf', 'linear', 'sigmoid']},\n",
       "                   random_state=42, verbose=2)"
      ]
     },
     "execution_count": 115,
     "metadata": {},
     "output_type": "execute_result"
    }
   ],
   "source": [
    "SVC_tuned.fit(X_train_tuned,y_train_tuned)"
   ]
  },
  {
   "cell_type": "code",
   "execution_count": 116,
   "id": "b4007c8e",
   "metadata": {},
   "outputs": [
    {
     "data": {
      "text/plain": [
       "{'kernel': 'linear', 'gamma': 0.1, 'C': 1}"
      ]
     },
     "execution_count": 116,
     "metadata": {},
     "output_type": "execute_result"
    }
   ],
   "source": [
    "SVC_tuned.best_params_"
   ]
  },
  {
   "cell_type": "code",
   "execution_count": 117,
   "id": "9e6ddbb4",
   "metadata": {},
   "outputs": [],
   "source": [
    "predictions_svc_tuned=SVC_tuned.predict(X_test_tuned)"
   ]
  },
  {
   "cell_type": "code",
   "execution_count": 118,
   "id": "335486dc",
   "metadata": {},
   "outputs": [
    {
     "name": "stdout",
     "output_type": "stream",
     "text": [
      "              precision    recall  f1-score   support\n",
      "\n",
      "           0       0.75      0.18      0.29       132\n",
      "           1       0.72      0.87      0.79      1390\n",
      "           2       0.65      0.49      0.56       751\n",
      "\n",
      "    accuracy                           0.70      2273\n",
      "   macro avg       0.71      0.51      0.55      2273\n",
      "weighted avg       0.70      0.70      0.68      2273\n",
      "\n",
      "\n",
      "\n",
      "[[  24   89   19]\n",
      " [   6 1209  175]\n",
      " [   2  382  367]]\n"
     ]
    }
   ],
   "source": [
    "metrics(y_test_tuned,predictions_svc_tuned)"
   ]
  },
  {
   "cell_type": "markdown",
   "id": "6e985e1d",
   "metadata": {},
   "source": [
    "### K Nearest Neighbors"
   ]
  },
  {
   "cell_type": "code",
   "execution_count": 120,
   "id": "591da99f",
   "metadata": {},
   "outputs": [],
   "source": [
    "from sklearn.neighbors import KNeighborsClassifier"
   ]
  },
  {
   "cell_type": "code",
   "execution_count": 165,
   "id": "2e27dff9",
   "metadata": {},
   "outputs": [],
   "source": [
    "pipe5=Pipeline([\n",
    "    ('bow',CountVectorizer()),    # strings to integer token counts\n",
    "    ('tfidf',TfidfTransformer()),  # tokens counts to TF-IDF weights\n",
    "    ('classifier',KNeighborsClassifier(n_neighbors=5))  # classification algorithm\n",
    "])"
   ]
  },
  {
   "cell_type": "code",
   "execution_count": 166,
   "id": "15c0ed4b",
   "metadata": {},
   "outputs": [
    {
     "data": {
      "text/plain": [
       "Pipeline(steps=[('bow', CountVectorizer()), ('tfidf', TfidfTransformer()),\n",
       "                ('classifier', KNeighborsClassifier())])"
      ]
     },
     "execution_count": 166,
     "metadata": {},
     "output_type": "execute_result"
    }
   ],
   "source": [
    "pipe5.fit(X_train,y_train)"
   ]
  },
  {
   "cell_type": "code",
   "execution_count": 167,
   "id": "cb8d7b39",
   "metadata": {},
   "outputs": [],
   "source": [
    "predictions_knn=pipe5.predict(X_test)"
   ]
  },
  {
   "cell_type": "code",
   "execution_count": 168,
   "id": "5eb9f05f",
   "metadata": {},
   "outputs": [
    {
     "name": "stdout",
     "output_type": "stream",
     "text": [
      "              precision    recall  f1-score   support\n",
      "\n",
      "           0       0.33      0.12      0.17       146\n",
      "           1       0.69      0.84      0.76      1422\n",
      "           2       0.53      0.37      0.44       705\n",
      "\n",
      "    accuracy                           0.65      2273\n",
      "   macro avg       0.52      0.44      0.46      2273\n",
      "weighted avg       0.62      0.65      0.62      2273\n",
      "\n",
      "\n",
      "\n",
      "[[  17  103   26]\n",
      " [  24 1195  203]\n",
      " [  11  431  263]]\n"
     ]
    }
   ],
   "source": [
    "metrics(y_test,predictions_knn)"
   ]
  },
  {
   "cell_type": "markdown",
   "id": "f98079f8",
   "metadata": {},
   "source": [
    "  <h1><center>Thank You</center></h1>"
   ]
  }
 ],
 "metadata": {
  "kernelspec": {
   "display_name": "Python 3 (ipykernel)",
   "language": "python",
   "name": "python3"
  },
  "language_info": {
   "codemirror_mode": {
    "name": "ipython",
    "version": 3
   },
   "file_extension": ".py",
   "mimetype": "text/x-python",
   "name": "python",
   "nbconvert_exporter": "python",
   "pygments_lexer": "ipython3",
   "version": "3.9.7"
  }
 },
 "nbformat": 4,
 "nbformat_minor": 5
}
