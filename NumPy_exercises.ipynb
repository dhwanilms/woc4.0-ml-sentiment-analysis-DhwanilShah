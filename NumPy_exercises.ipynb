{
 "cells": [
  {
   "cell_type": "code",
   "execution_count": 1,
   "metadata": {
    "id": "EnhORJMC5NHc"
   },
   "outputs": [],
   "source": [
    "import numpy as np"
   ]
  },
  {
   "cell_type": "markdown",
   "metadata": {
    "id": "dp92tsiV49wM"
   },
   "source": [
    "# Part 1: Creating ndarrays"
   ]
  },
  {
   "cell_type": "markdown",
   "metadata": {
    "id": "kI-sYE8f5L4P"
   },
   "source": [
    "1. Convert the below given list of strings to an int32 NumPy array"
   ]
  },
  {
   "cell_type": "code",
   "execution_count": 2,
   "metadata": {
    "id": "E_nNMLpu5PE2"
   },
   "outputs": [],
   "source": [
    "slist = ['2.5', '1.25', '0.024','2.999','1024.5']"
   ]
  },
  {
   "cell_type": "code",
   "execution_count": 3,
   "metadata": {
    "id": "guqHmLhqWxzJ"
   },
   "outputs": [
    {
     "data": {
      "text/plain": [
       "array([   2,    1,    0,    3, 1024], dtype=int32)"
      ]
     },
     "execution_count": 3,
     "metadata": {},
     "output_type": "execute_result"
    }
   ],
   "source": [
    "# Write your code here\n",
    "np.array(np.array(slist,dtype='f').round(),dtype='i')"
   ]
  },
  {
   "cell_type": "markdown",
   "metadata": {
    "id": "6uPLqLMu5Wo0"
   },
   "source": [
    "2. Create an empty 5x5 NumPy matrix"
   ]
  },
  {
   "cell_type": "code",
   "execution_count": 4,
   "metadata": {
    "id": "cxRRTaVWWvqn"
   },
   "outputs": [
    {
     "data": {
      "text/plain": [
       "array([[6.23042070e-307, 4.67296746e-307, 1.69121096e-306,\n",
       "        2.04720919e-306, 1.24611266e-306],\n",
       "       [7.56595733e-307, 1.33511018e-306, 1.33511969e-306,\n",
       "        6.23037996e-307, 6.23053954e-307],\n",
       "       [9.34609790e-307, 8.45593934e-307, 9.34600963e-307,\n",
       "        1.86921143e-306, 6.23061763e-307],\n",
       "       [6.89804132e-307, 8.45610231e-307, 9.34601642e-307,\n",
       "        8.45590539e-307, 8.34445562e-308],\n",
       "       [1.78022342e-306, 8.06635958e-308, 1.42410974e-306,\n",
       "        8.45528067e-307, 2.12203497e-312]])"
      ]
     },
     "execution_count": 4,
     "metadata": {},
     "output_type": "execute_result"
    }
   ],
   "source": [
    "# Write your code here\n",
    "np.empty(shape=(5,5))"
   ]
  },
  {
   "cell_type": "markdown",
   "metadata": {
    "id": "AOdcEdnA5f3B"
   },
   "source": [
    "# Part 2: Operations between Arrays and Scalars"
   ]
  },
  {
   "cell_type": "markdown",
   "metadata": {
    "id": "tKvPKAct5lT_"
   },
   "source": [
    "3. Create a 1x7 Numpy array whose elements consist of a geometric progression with a = 1 & r = 3, terms are arranged indexwise, for ex"
   ]
  },
  {
   "cell_type": "code",
   "execution_count": 5,
   "metadata": {
    "id": "m8hVg-mV5mAn"
   },
   "outputs": [],
   "source": [
    "sample_output = [1,3,9,27,81]"
   ]
  },
  {
   "cell_type": "code",
   "execution_count": 6,
   "metadata": {
    "id": "yRh4_XudW7YR"
   },
   "outputs": [
    {
     "data": {
      "text/plain": [
       "array([  1,   3,   9,  27,  81, 242, 729], dtype=int32)"
      ]
     },
     "execution_count": 6,
     "metadata": {},
     "output_type": "execute_result"
    }
   ],
   "source": [
    "# Write your code here\n",
    "np.geomspace(start=1,stop=3**6,num=7,dtype='i')"
   ]
  },
  {
   "cell_type": "markdown",
   "metadata": {
    "id": "olRCl-v8_JR9"
   },
   "source": [
    "4. Transform each of the element of the below matrix according to the below equation\n",
    "\n",
    "    if x is an elements in input matrix, output matrix should have \n",
    "$1/(x^2 + 1)$ in its place\n",
    "\n"
   ]
  },
  {
   "cell_type": "code",
   "execution_count": 7,
   "metadata": {
    "id": "7ZZoyVXZAq9G"
   },
   "outputs": [],
   "source": [
    "mat = [[1,2,3],[4,5,6]]"
   ]
  },
  {
   "cell_type": "code",
   "execution_count": 8,
   "metadata": {
    "id": "qc_muADhXCFh"
   },
   "outputs": [
    {
     "data": {
      "text/plain": [
       "array([[0.5       , 0.2       , 0.1       ],\n",
       "       [0.05882353, 0.03846154, 0.02702703]])"
      ]
     },
     "execution_count": 8,
     "metadata": {},
     "output_type": "execute_result"
    }
   ],
   "source": [
    "# Write your code here\n",
    "1/(np.square(mat)+1)"
   ]
  },
  {
   "cell_type": "markdown",
   "metadata": {
    "id": "SMuOfjq7DCkH"
   },
   "source": [
    "# Part 3: Basic Indexing and Slicing"
   ]
  },
  {
   "cell_type": "markdown",
   "metadata": {
    "id": "dxqj_uPbEOik"
   },
   "source": [
    "5. Make a 5x5 NumPy array of all zeros and use indexing and broadcasting to modify it such that all the elements not on the border are 1, for example"
   ]
  },
  {
   "cell_type": "code",
   "execution_count": 9,
   "metadata": {
    "colab": {
     "base_uri": "https://localhost:8080/"
    },
    "id": "5Le5dW3IEh6_",
    "outputId": "35fa378b-b170-4388-8ab7-757c4da750ab"
   },
   "outputs": [
    {
     "data": {
      "text/plain": [
       "array([[0, 0, 0, 0, 0],\n",
       "       [0, 1, 1, 1, 0],\n",
       "       [0, 1, 1, 1, 0],\n",
       "       [0, 1, 1, 1, 0],\n",
       "       [0, 0, 0, 0, 0]])"
      ]
     },
     "execution_count": 9,
     "metadata": {},
     "output_type": "execute_result"
    }
   ],
   "source": [
    "output_sample = np.array([[0,0,0,0,0],[0,1,1,1,0],[0,1,1,1,0],[0,1,1,1,0],[0,0,0,0,0]])\n",
    "output_sample"
   ]
  },
  {
   "cell_type": "code",
   "execution_count": 10,
   "metadata": {
    "id": "A7jJSywYXIvr"
   },
   "outputs": [
    {
     "data": {
      "text/plain": [
       "array([[0, 0, 0, 0, 0],\n",
       "       [0, 1, 1, 1, 0],\n",
       "       [0, 1, 1, 1, 0],\n",
       "       [0, 1, 1, 1, 0],\n",
       "       [0, 0, 0, 0, 0]], dtype=int32)"
      ]
     },
     "execution_count": 10,
     "metadata": {},
     "output_type": "execute_result"
    }
   ],
   "source": [
    "#write your code here\n",
    "zero_array=np.zeros((5,5),dtype='i')\n",
    "zero_array[1:-1,1:-1]=1\n",
    "zero_array"
   ]
  },
  {
   "cell_type": "markdown",
   "metadata": {
    "id": "K0hJTUXkFdfA"
   },
   "source": [
    "6. Given the 3x3x3, 3-dimensional NumPy array"
   ]
  },
  {
   "cell_type": "code",
   "execution_count": 11,
   "metadata": {
    "colab": {
     "base_uri": "https://localhost:8080/"
    },
    "id": "POO1yEFNGQnT",
    "outputId": "5f490422-02d1-487b-ae3c-661c20675146"
   },
   "outputs": [
    {
     "data": {
      "text/plain": [
       "array([[[ 0,  1,  2],\n",
       "        [ 3,  4,  5],\n",
       "        [ 6,  7,  8]],\n",
       "\n",
       "       [[ 9, 10, 11],\n",
       "        [12, 13, 14],\n",
       "        [15, 16, 17]],\n",
       "\n",
       "       [[18, 19, 20],\n",
       "        [21, 22, 23],\n",
       "        [24, 25, 26]]])"
      ]
     },
     "execution_count": 11,
     "metadata": {},
     "output_type": "execute_result"
    }
   ],
   "source": [
    "arr = np.arange(27).reshape((3,3,3))\n",
    "arr"
   ]
  },
  {
   "cell_type": "markdown",
   "metadata": {
    "id": "J0VtaaOtG2dH"
   },
   "source": [
    "i. Slice this matrix to contain only second and third rows, first and second columns of the given matrix."
   ]
  },
  {
   "cell_type": "code",
   "execution_count": 12,
   "metadata": {
    "colab": {
     "base_uri": "https://localhost:8080/"
    },
    "id": "0NnEUUN-gOB5",
    "outputId": "0e815cea-28b2-4a2a-bd55-9d94ee8c30ef"
   },
   "outputs": [
    {
     "data": {
      "text/plain": [
       "array([[[ 3,  4],\n",
       "        [ 6,  7]],\n",
       "\n",
       "       [[12, 13],\n",
       "        [15, 16]],\n",
       "\n",
       "       [[21, 22],\n",
       "        [24, 25]]])"
      ]
     },
     "execution_count": 12,
     "metadata": {},
     "output_type": "execute_result"
    }
   ],
   "source": [
    "sample_output = np.array([[[3,4],[6,7]],[[12,13],[15,16]],[[21,22],[24,25]]])\n",
    "sample_output"
   ]
  },
  {
   "cell_type": "code",
   "execution_count": 13,
   "metadata": {
    "id": "TvzAXsUDXNA7"
   },
   "outputs": [
    {
     "data": {
      "text/plain": [
       "array([[[ 3,  4],\n",
       "        [ 6,  7]],\n",
       "\n",
       "       [[12, 13],\n",
       "        [15, 16]],\n",
       "\n",
       "       [[21, 22],\n",
       "        [24, 25]]])"
      ]
     },
     "execution_count": 13,
     "metadata": {},
     "output_type": "execute_result"
    }
   ],
   "source": [
    "#write your code here\n",
    "arr[:,1:3,0:2]"
   ]
  },
  {
   "cell_type": "markdown",
   "metadata": {
    "id": "NBGc_zTdHxWD"
   },
   "source": [
    "ii. Output a two dimensional matrix as shown below"
   ]
  },
  {
   "cell_type": "code",
   "execution_count": 14,
   "metadata": {
    "colab": {
     "base_uri": "https://localhost:8080/"
    },
    "id": "Y2WOfAhGH-O7",
    "outputId": "0e340a6d-285e-436f-ee02-e5f3a02c2e68"
   },
   "outputs": [
    {
     "data": {
      "text/plain": [
       "array([[ 0,  3,  6],\n",
       "       [ 9, 12, 15],\n",
       "       [18, 21, 14]])"
      ]
     },
     "execution_count": 14,
     "metadata": {},
     "output_type": "execute_result"
    }
   ],
   "source": [
    "sample_output = np.array([[0,3,6],[9,12,15],[18,21,14]])\n",
    "sample_output"
   ]
  },
  {
   "cell_type": "code",
   "execution_count": 15,
   "metadata": {
    "id": "4PmA4j3cXVfe"
   },
   "outputs": [
    {
     "data": {
      "text/plain": [
       "array([[ 0,  3,  6],\n",
       "       [ 9, 12, 15],\n",
       "       [18, 21, 24]])"
      ]
     },
     "execution_count": 15,
     "metadata": {},
     "output_type": "execute_result"
    }
   ],
   "source": [
    "#write your code here\n",
    "arr[:,:,0]"
   ]
  },
  {
   "cell_type": "markdown",
   "metadata": {
    "id": "ARJHpbXiIe5p"
   },
   "source": [
    "# Part 4: Boolean Indexing"
   ]
  },
  {
   "cell_type": "markdown",
   "metadata": {
    "id": "evJTyDSOIpcT"
   },
   "source": [
    "7. Given the following array, modify it such that even values stay the same and output contains 0s instead of odd values"
   ]
  },
  {
   "cell_type": "code",
   "execution_count": 16,
   "metadata": {
    "colab": {
     "base_uri": "https://localhost:8080/"
    },
    "id": "aCzMmII5I3OV",
    "outputId": "4b12d963-6b46-4d9e-d3a5-6293bea23f2e"
   },
   "outputs": [
    {
     "data": {
      "text/plain": [
       "array([[0, 1, 2],\n",
       "       [3, 4, 5],\n",
       "       [6, 7, 8]])"
      ]
     },
     "execution_count": 16,
     "metadata": {},
     "output_type": "execute_result"
    }
   ],
   "source": [
    "arr = np.arange(9).reshape((3,3))\n",
    "arr"
   ]
  },
  {
   "cell_type": "code",
   "execution_count": 17,
   "metadata": {
    "colab": {
     "base_uri": "https://localhost:8080/"
    },
    "id": "cUYDN-utI631",
    "outputId": "402adc9d-6447-4efd-defe-55819d9399e4"
   },
   "outputs": [
    {
     "data": {
      "text/plain": [
       "array([[0, 0, 2],\n",
       "       [0, 4, 0],\n",
       "       [6, 0, 8]])"
      ]
     },
     "execution_count": 17,
     "metadata": {},
     "output_type": "execute_result"
    }
   ],
   "source": [
    "sample_output = np.array([[0,0,2],[0,4,0],[6,0,8]])\n",
    "sample_output"
   ]
  },
  {
   "cell_type": "code",
   "execution_count": 18,
   "metadata": {
    "id": "h2Z4fsdMXanz"
   },
   "outputs": [
    {
     "data": {
      "text/plain": [
       "array([[0, 0, 2],\n",
       "       [0, 4, 0],\n",
       "       [6, 0, 8]])"
      ]
     },
     "execution_count": 18,
     "metadata": {},
     "output_type": "execute_result"
    }
   ],
   "source": [
    "#write your code here\n",
    "arr[arr%2==1]=0\n",
    "arr"
   ]
  },
  {
   "cell_type": "markdown",
   "metadata": {
    "id": "ldtjYhuINJTS"
   },
   "source": [
    "# Part 5: Fancy Indexing"
   ]
  },
  {
   "cell_type": "markdown",
   "metadata": {
    "id": "MuId5CADOEil"
   },
   "source": [
    "8. For the given matrix, use fancy indexing to output a 2d matrix consisting all the even elements of the given matrix"
   ]
  },
  {
   "cell_type": "code",
   "execution_count": 19,
   "metadata": {
    "colab": {
     "base_uri": "https://localhost:8080/"
    },
    "id": "OTq0propOlxk",
    "outputId": "224ed8ba-9898-4936-e209-3a08989534df"
   },
   "outputs": [
    {
     "data": {
      "text/plain": [
       "array([[ 0,  1,  2,  3],\n",
       "       [ 4,  5,  6,  7],\n",
       "       [ 8,  9, 10, 11],\n",
       "       [12, 13, 14, 15],\n",
       "       [16, 17, 18, 19],\n",
       "       [20, 21, 22, 23],\n",
       "       [24, 25, 26, 27],\n",
       "       [28, 29, 30, 31]])"
      ]
     },
     "execution_count": 19,
     "metadata": {},
     "output_type": "execute_result"
    }
   ],
   "source": [
    "arr = np.arange(32).reshape((8, 4))\n",
    "arr"
   ]
  },
  {
   "cell_type": "code",
   "execution_count": 20,
   "metadata": {
    "colab": {
     "base_uri": "https://localhost:8080/"
    },
    "id": "ghhE7MRVOrqX",
    "outputId": "fb289a86-ccfd-4f6c-a386-cfd20e97f6c9"
   },
   "outputs": [
    {
     "data": {
      "text/plain": [
       "array([[ 0,  2],\n",
       "       [ 4,  6],\n",
       "       [ 8, 10],\n",
       "       [12, 14],\n",
       "       [16, 18],\n",
       "       [20, 22],\n",
       "       [24, 26],\n",
       "       [28, 30]])"
      ]
     },
     "execution_count": 20,
     "metadata": {},
     "output_type": "execute_result"
    }
   ],
   "source": [
    "sample_output = np.array([[ 0,  2],\n",
    "       [ 4,  6],\n",
    "       [ 8, 10],\n",
    "       [12, 14],\n",
    "       [16, 18],\n",
    "       [20, 22],\n",
    "       [24, 26],\n",
    "       [28, 30]])\n",
    "sample_output"
   ]
  },
  {
   "cell_type": "code",
   "execution_count": 21,
   "metadata": {
    "id": "HOPNWQLRXhqI"
   },
   "outputs": [
    {
     "data": {
      "text/plain": [
       "array([[ 0,  2],\n",
       "       [ 4,  6],\n",
       "       [ 8, 10],\n",
       "       [12, 14],\n",
       "       [16, 18],\n",
       "       [20, 22],\n",
       "       [24, 26],\n",
       "       [28, 30]])"
      ]
     },
     "execution_count": 21,
     "metadata": {},
     "output_type": "execute_result"
    }
   ],
   "source": [
    "# Write your code here\n",
    "arr[:,(0,2)]"
   ]
  },
  {
   "cell_type": "markdown",
   "metadata": {
    "id": "xj5lX_02SOa5"
   },
   "source": [
    "# Part 6: Expressing Conditional Logic as Array Operations\n",
    "\n"
   ]
  },
  {
   "cell_type": "markdown",
   "metadata": {
    "id": "BeZCKBFmScZW"
   },
   "source": [
    "Given two following matrices, use conditional logic to replace all the odd elements of matrix A with even elements of matrix B"
   ]
  },
  {
   "cell_type": "code",
   "execution_count": 22,
   "metadata": {
    "colab": {
     "base_uri": "https://localhost:8080/"
    },
    "id": "amG797QGShmQ",
    "outputId": "9551a5e9-924b-4d39-d9ef-8608941dd328"
   },
   "outputs": [
    {
     "name": "stdout",
     "output_type": "stream",
     "text": [
      "[[0 1 2]\n",
      " [3 4 5]\n",
      " [6 7 8]]\n",
      "[[1 2 3]\n",
      " [4 5 6]\n",
      " [7 8 9]]\n"
     ]
    }
   ],
   "source": [
    "A = np.arange(9).reshape((3,3))\n",
    "B = np.arange(1,10).reshape((3,3))\n",
    "print(A)\n",
    "print(B)"
   ]
  },
  {
   "cell_type": "code",
   "execution_count": 23,
   "metadata": {
    "colab": {
     "base_uri": "https://localhost:8080/"
    },
    "id": "LvvT-mkFS9Fo",
    "outputId": "91db18ec-9a91-4660-d531-4414af6fc165"
   },
   "outputs": [
    {
     "data": {
      "text/plain": [
       "array([[0, 2, 2],\n",
       "       [4, 4, 6],\n",
       "       [6, 8, 8]])"
      ]
     },
     "execution_count": 23,
     "metadata": {},
     "output_type": "execute_result"
    }
   ],
   "source": [
    "sample_output = np.array([[0, 2, 2],\n",
    "       [4, 4, 6],\n",
    "       [6, 8, 8]])\n",
    "sample_output"
   ]
  },
  {
   "cell_type": "code",
   "execution_count": 24,
   "metadata": {
    "id": "NFsduXBoXncx"
   },
   "outputs": [
    {
     "data": {
      "text/plain": [
       "array([[0, 2, 2],\n",
       "       [4, 4, 6],\n",
       "       [6, 8, 8]])"
      ]
     },
     "execution_count": 24,
     "metadata": {},
     "output_type": "execute_result"
    }
   ],
   "source": [
    "# Write your code here\n",
    "A[A%2==1]=B[B%2==0]\n",
    "A"
   ]
  },
  {
   "cell_type": "markdown",
   "metadata": {
    "id": "11T_pvkoUrIb"
   },
   "source": [
    "# Part 7: Linear Algebra"
   ]
  },
  {
   "cell_type": "markdown",
   "metadata": {
    "id": "z44KXIq9Uu8E"
   },
   "source": [
    "Given the following system of equations, solve for x and y using either `numpy.linalg.solve(m1,m2)` or using `inv` and `dot`\n",
    "\n",
    "2x + 5y = 20\n",
    "\n",
    "3x + 6y = 12"
   ]
  },
  {
   "cell_type": "code",
   "execution_count": 25,
   "metadata": {
    "id": "XVppUEYjp-7a"
   },
   "outputs": [
    {
     "data": {
      "text/plain": [
       "array([[-20.],\n",
       "       [ 12.]])"
      ]
     },
     "execution_count": 25,
     "metadata": {},
     "output_type": "execute_result"
    }
   ],
   "source": [
    "#write your code here\n",
    "a=np.array([[2,5],[3,6]])\n",
    "b=np.array([[20],[12]])\n",
    "np.linalg.solve(a,b)"
   ]
  },
  {
   "cell_type": "code",
   "execution_count": null,
   "metadata": {},
   "outputs": [],
   "source": []
  }
 ],
 "metadata": {
  "colab": {
   "collapsed_sections": [],
   "name": "NumPy exercises",
   "provenance": []
  },
  "kernelspec": {
   "display_name": "Python 3",
   "language": "python",
   "name": "python3"
  },
  "language_info": {
   "codemirror_mode": {
    "name": "ipython",
    "version": 3
   },
   "file_extension": ".py",
   "mimetype": "text/x-python",
   "name": "python",
   "nbconvert_exporter": "python",
   "pygments_lexer": "ipython3",
   "version": "3.8.8"
  }
 },
 "nbformat": 4,
 "nbformat_minor": 1
}
